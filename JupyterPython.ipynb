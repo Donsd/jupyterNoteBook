{
 "cells": [
  {
   "cell_type": "code",
   "execution_count": 1,
   "id": "2c3e5169-d3a5-4431-b53b-7913bc8fea49",
   "metadata": {},
   "outputs": [
    {
     "name": "stdout",
     "output_type": "stream",
     "text": [
      "Hello world\n"
     ]
    }
   ],
   "source": [
    "print(\"Hello world\")\n"
   ]
  },
  {
   "cell_type": "code",
   "execution_count": 2,
   "id": "fe25ad37-868c-43d6-a516-30191ad082b2",
   "metadata": {},
   "outputs": [
    {
     "name": "stdout",
     "output_type": "stream",
     "text": [
      "Your name is: Shashanka\n"
     ]
    }
   ],
   "source": [
    "def helloworld(x):\n",
    "    print(\"Your name is:\",x)\n",
    "\n",
    "helloworld(\"Shashanka\")"
   ]
  },
  {
   "cell_type": "code",
   "execution_count": 1,
   "id": "1d9e5de4-7ce2-413e-8bf1-cc55923ac816",
   "metadata": {},
   "outputs": [
    {
     "data": {
      "text/plain": [
       "3"
      ]
     },
     "execution_count": 1,
     "metadata": {},
     "output_type": "execute_result"
    }
   ],
   "source": [
    "\n",
    "int(3.99)"
   ]
  },
  {
   "cell_type": "code",
   "execution_count": null,
   "id": "2fddfc09",
   "metadata": {},
   "outputs": [],
   "source": [
    "import pandas as pd\n",
    "url=\"C:/Users/LENOVO/Downloads/automobile/imports-85.data\"\n",
    "df=pd.read_csv(url,header=None)\n",
    "df.head(5)"
   ]
  },
  {
   "cell_type": "code",
   "execution_count": null,
   "id": "b5ae364e",
   "metadata": {},
   "outputs": [],
   "source": [
    "headers=[\"symboling\",\"normalized-losses\",\"make\",\"fuel-type\",\"aspiration\",\"num-of-doors\",\"body-style\",\"drive-wheels\",\"engine-location\",\"wheel-base\",\"length\",\"width\",\"height\",\"curb-weight\",\"engine-type\",\"num-of-cylinders\",\"engine-size\",\"fuel-system\",\"bore\",\"stroke\",\"compression-ratio\",\"horsepower\",\"peak-rpm\",\"city-mpg\",\"highway-mpg\",\"price\"]\n",
    "df.columns=headers \n",
    "print(\"headers\\n\", headers) \n",
    "df.head(5)"
   ]
  },
  {
   "cell_type": "code",
   "execution_count": 7,
   "id": "59e0ab8e",
   "metadata": {},
   "outputs": [],
   "source": [
    "path=\"C:/Users/LENOVO/Downloads/auto.csv\"\n",
    "df.to_csv(path)"
   ]
  },
  {
   "cell_type": "code",
   "execution_count": null,
   "id": "f66fb145",
   "metadata": {},
   "outputs": [],
   "source": [
    "# from pyodide.http import pyfetch\n",
    "\n",
    "# async def download(url, filename):\n",
    "#     response = await pyfetch(url)\n",
    "#     if response.status == 200:\n",
    "#         with open(filename, \"wb\") as f:\n",
    "#             f.write(await response.bytes())\n",
    "# file_path='https://cf-courses-data.s3.us.cloud-object-storage.appdomain.cloud/IBMDeveloperSkillsNetwork-DA0101EN-SkillsNetwork/labs/Data%20files/auto.csv'\n",
    "# await download(file_path, \"auto.csv\")\n",
    "# file_name=\"auto.csv\"\n",
    "# df = pd.read_csv(file_name)\n",
    "# df.head(5)"
   ]
  },
  {
   "cell_type": "code",
   "execution_count": null,
   "id": "07fb4488",
   "metadata": {},
   "outputs": [],
   "source": [
    "df.tail(10)"
   ]
  },
  {
   "cell_type": "code",
   "execution_count": null,
   "id": "f9f8ced1",
   "metadata": {},
   "outputs": [],
   "source": [
    "import numpy as np \n",
    "df1=df.replace('?',np.nan)  #replace ? with nan\n",
    "# df.replace('?',np.nan, inplace = True)\n",
    "df1.head(5) #display first 5 rows"
   ]
  },
  {
   "cell_type": "code",
   "execution_count": null,
   "id": "eee01edb",
   "metadata": {},
   "outputs": [],
   "source": [
    "df1.head(25)"
   ]
  },
  {
   "cell_type": "code",
   "execution_count": null,
   "id": "bc01c0a9",
   "metadata": {},
   "outputs": [],
   "source": [
    "\n",
    "df=df1.dropna(subset=[\"price\"], axis=0) #drop rows with missing price values, axis=0 means that the contents along the entire row will be dropped wherever the entity 'price' is found to be NaN\n",
    "df.head(20)"
   ]
  },
  {
   "cell_type": "code",
   "execution_count": null,
   "id": "abe0a41c",
   "metadata": {},
   "outputs": [],
   "source": [
    "print(df.columns) #display column names"
   ]
  },
  {
   "cell_type": "code",
   "execution_count": null,
   "id": "b725ef11",
   "metadata": {},
   "outputs": [],
   "source": [
    "df.to_csv(\"C:/Users/LENOVO/jupyterNoteBook/automobile.csv\", index=False) #save the dataframe to a new csv file, index=False means that the index column will not be saved"
   ]
  },
  {
   "cell_type": "code",
   "execution_count": null,
   "id": "39badbd2",
   "metadata": {},
   "outputs": [],
   "source": [
    "df.dtypes #display data types of each column"
   ]
  },
  {
   "cell_type": "code",
   "execution_count": null,
   "id": "5969b09f",
   "metadata": {},
   "outputs": [],
   "source": [
    "df.describe() #This method will provide various summary statistics, excluding NaN (Not a Number) values.\n",
    "#This shows the statistical summary of all numeric-typed (int, float) columns."
   ]
  },
  {
   "cell_type": "code",
   "execution_count": null,
   "id": "7b93e2be",
   "metadata": {},
   "outputs": [],
   "source": [
    "df.describe(include = \"all\") #Now it provides the statistical summary of all the columns, including object-typed attributes."
   ]
  },
  {
   "cell_type": "code",
   "execution_count": null,
   "id": "bfddb403",
   "metadata": {},
   "outputs": [],
   "source": [
    "df[['length','compression-ratio']].describe() #we can select the columns of a data frame and apply the methods like .describe()"
   ]
  },
  {
   "cell_type": "code",
   "execution_count": null,
   "id": "5328f78c",
   "metadata": {},
   "outputs": [],
   "source": [
    "df.info() #provides a concise summary of the dataframe"
   ]
  },
  {
   "cell_type": "code",
   "execution_count": null,
   "id": "8c0f6765",
   "metadata": {},
   "outputs": [],
   "source": []
  }
 ],
 "metadata": {
  "kernelspec": {
   "display_name": "Python 3",
   "language": "python",
   "name": "python3"
  },
  "language_info": {
   "codemirror_mode": {
    "name": "ipython",
    "version": 3
   },
   "file_extension": ".py",
   "mimetype": "text/x-python",
   "name": "python",
   "nbconvert_exporter": "python",
   "pygments_lexer": "ipython3",
   "version": "3.13.1"
  }
 },
 "nbformat": 4,
 "nbformat_minor": 5
}
